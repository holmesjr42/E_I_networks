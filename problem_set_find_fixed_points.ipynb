{
 "cells": [
  {
   "cell_type": "code",
   "execution_count": 1,
   "metadata": {
    "collapsed": false
   },
   "outputs": [
    {
     "name": "stdout",
     "output_type": "stream",
     "text": [
      "The system has a fixed point in 0,0\n"
     ]
    },
    {
     "data": {
      "text/plain": [
       "[(0, 0)]"
      ]
     },
     "execution_count": 1,
     "metadata": {},
     "output_type": "execute_result"
    }
   ],
   "source": [
    "# for fast array manipulation\n",
    "import numpy as np\n",
    "# for plotting\n",
    "import matplotlib.pyplot as plt\n",
    "# for numerical ODE integration\n",
    "from scipy.integrate import odeint\n",
    "# for nonlinear equations\n",
    "from scipy.optimize import fsolve\n",
    "from matplotlib.pyplot import cm\n",
    "#find fixed points with scipy?\n",
    "import scipy.optimize as optimize\n",
    "\n",
    "# to display plots in-line\n",
    "%matplotlib inline\n",
    "\n",
    "#import sympy for fixed points?\n",
    "import sympy as sm\n",
    "\n",
    "# minimum and maximum E and I values we want displayed in the graph-sayshttp://martinosorb.github.io#variables\n",
    "tau=0.01\n",
    "w_ee=15\n",
    "w_ei=0\n",
    "w_ie=10\n",
    "w_ii=0\n",
    "e=0\n",
    "\n",
    "#define tanh np.maximum\n",
    "\n",
    "def wow(x):\n",
    "    y=np.maximum(0,x)\n",
    "    return np.tanh(y)\n",
    "\n",
    "E=[]\n",
    "I=[]\n",
    "#Wilson-Cowan ODE\n",
    "def f(E,I):\n",
    "    return (-E+wow(w_ee*E+w_ei*I+e))/tau\n",
    "def g(E,I):\n",
    "    return (-I+wow(w_ie*E+w_ii*I))/tau\n",
    "\n",
    "fp = []\n",
    "\n",
    "def find_fixed_points(r):\n",
    "    for E in range(-r,r):\n",
    "        for I in range(-r,r):\n",
    "            if ((f(E,I) == 0 and g(E,I)==0)):\n",
    "                fp.append((E,I))\n",
    "                print('The system has a fixed point in %s,%s' % (E,I))\n",
    "    return fp\n",
    "\n",
    "find_fixed_points(100)"
   ]
  },
  {
   "cell_type": "code",
   "execution_count": null,
   "metadata": {
    "collapsed": true
   },
   "outputs": [],
   "source": []
  }
 ],
 "metadata": {
  "anaconda-cloud": {},
  "kernelspec": {
   "display_name": "Python [conda root]",
   "language": "python",
   "name": "conda-root-py"
  },
  "language_info": {
   "codemirror_mode": {
    "name": "ipython",
    "version": 3
   },
   "file_extension": ".py",
   "mimetype": "text/x-python",
   "name": "python",
   "nbconvert_exporter": "python",
   "pygments_lexer": "ipython3",
   "version": "3.5.2"
  }
 },
 "nbformat": 4,
 "nbformat_minor": 1
}
