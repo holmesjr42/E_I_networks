{
 "cells": [
  {
   "cell_type": "code",
   "execution_count": 3,
   "outputs": [],
   "source": [
    "import numpy as np"
   ],
   "metadata": {
    "collapsed": false,
    "pycharm": {
     "name": "#%%\n"
    }
   }
  },
  {
   "cell_type": "code",
   "execution_count": 25,
   "outputs": [],
   "source": [
    "# minimum and maximum E and I values we want displayed in the graph-sayshttp://martinosorb.github.io#variables\n",
    "tau=0.01\n",
    "w_ee=15\n",
    "w_ei=0\n",
    "w_ie=10\n",
    "w_ii=0\n",
    "e=0\n",
    "EI = [[], []]\n",
    "fp = []"
   ],
   "metadata": {
    "collapsed": false,
    "pycharm": {
     "name": "#%%\n"
    }
   }
  },
  {
   "cell_type": "code",
   "execution_count": 26,
   "outputs": [],
   "source": [
    "#Wilson-Cowan ODE\n",
    "def tanh_(x):\n",
    "    return np.tanh(np.maximum(0, x))\n",
    "\n",
    "def f(ei, ii):\n",
    "    f_cal =  w_ee * ei + w_ei * ii + e\n",
    "    convert_ = (tanh_(f_cal) - ei) / tau\n",
    "    return convert_\n",
    "\n",
    "def g(ei, ii):\n",
    "    g_cal =  w_ei * ei + w_ii * ii\n",
    "    convert_ = (tanh_(g_cal) - ii) / tau\n",
    "    return convert_\n",
    "\n",
    "def find_fixed_points(r, fp):\n",
    "    for e_r in range(-r,r):\n",
    "        for i_r in range(-r,r):\n",
    "            if f(e_r, i_r) == 0 and g(e_r, i_r)==0:\n",
    "                fp.append((e_r, i_r))\n",
    "                print('The system has a fixed point in %s,%s' % (e_r, i_r))\n",
    "    return fp"
   ],
   "metadata": {
    "collapsed": false,
    "pycharm": {
     "name": "#%%\n"
    }
   }
  },
  {
   "cell_type": "code",
   "execution_count": 30,
   "outputs": [
    {
     "name": "stdout",
     "output_type": "stream",
     "text": [
      "The system has a fixed point in 0,0\n"
     ]
    },
    {
     "data": {
      "text/plain": "[(0, 0), (0, 0), (0, 0)]"
     },
     "execution_count": 30,
     "metadata": {},
     "output_type": "execute_result"
    }
   ],
   "source": [
    "find_fixed_points(100, fp)"
   ],
   "metadata": {
    "collapsed": false,
    "pycharm": {
     "name": "#%%\n"
    }
   }
  },
  {
   "cell_type": "code",
   "execution_count": null,
   "outputs": [],
   "source": [],
   "metadata": {
    "collapsed": false,
    "pycharm": {
     "name": "#%%\n"
    }
   }
  }
 ],
 "metadata": {
  "anaconda-cloud": {},
  "kernelspec": {
   "name": "python3",
   "language": "python",
   "display_name": "Python 3 (ipykernel)"
  },
  "language_info": {
   "codemirror_mode": {
    "name": "ipython",
    "version": 3
   },
   "file_extension": ".py",
   "mimetype": "text/x-python",
   "name": "python",
   "nbconvert_exporter": "python",
   "pygments_lexer": "ipython3",
   "version": "3.5.2"
  }
 },
 "nbformat": 4,
 "nbformat_minor": 1
}