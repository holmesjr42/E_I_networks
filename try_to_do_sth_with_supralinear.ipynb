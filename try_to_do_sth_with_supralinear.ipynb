{
 "cells": [
  {
   "cell_type": "code",
   "execution_count": 39,
   "metadata": {
    "collapsed": true
   },
   "outputs": [],
   "source": [
    "#let's import things you need\n",
    "\n",
    "# for fast array manipulation\n",
    "import numpy as np\n",
    "# for plotting\n",
    "import matplotlib.pyplot as plt\n",
    "# for numerical ODE integration\n",
    "from scipy.integrate import odeint\n",
    "# for nonlinear equations\n",
    "from scipy.optimize import fsolve\n",
    "from matplotlib.pyplot import cm\n",
    "# needed to calculate (complex) squareroots of negative numbers\n",
    "from scipy import sqrt,integrate\n",
    "#nullcline\n",
    "import PyDSTool as dst\n",
    "from PyDSTool.Toolbox import phaseplane as pp\n",
    "from PyDSTool import args\n",
    "# to display plots in-line\n",
    "%matplotlib inline\n",
    "\n",
    "\n",
    "#import sympy for fixed points?\n",
    "import sympy as sm\n",
    "\n",
    "#widget\n",
    "from ipywidgets import interact, interactive\n",
    "from IPython.display import clear_output, display, HTML\n",
    "from mpl_toolkits.mplot3d import Axes3D\n",
    "from matplotlib.colors import cnames\n",
    "from matplotlib import animation"
   ]
  },
  {
   "cell_type": "code",
   "execution_count": 40,
   "metadata": {
    "collapsed": true
   },
   "outputs": [],
   "source": [
    "# parameters\n",
    "tau_e=20\n",
    "tau_i=10\n",
    "###########\n",
    "#stimulus orientation\n",
    "phi_1=45 \n",
    "# phi_2=0 #if you need two stimuli\n",
    "###########\n",
    "j_ee = 0.044\n",
    "j_ie = 0.042\n",
    "j_ei = 0.023\n",
    "j_ii = 0.018\n",
    "sigm_ori=32\n",
    "sigm_ff=30\n",
    "k=0.04\n",
    "n=2.0\n",
    "N=180\n",
    "c=10\n"
   ]
  },
  {
   "cell_type": "code",
   "execution_count": 55,
   "metadata": {
    "collapsed": false
   },
   "outputs": [],
   "source": [
    "#####################################\n",
    "#from pedro's firing rate network\n",
    "# time parameters\n",
    "t0 = 0\n",
    "tmax =100\n",
    "tstep = 0.1\n",
    "t = np.arange(t0,tmax,tstep)\n",
    "    \n",
    "#all the initials\n",
    "r_e=np.zeros((N,t.shape[0]))\n",
    "r_i=np.zeros((N,t.shape[0]))\n",
    "in_e=np.zeros((N,t.shape[0]))\n",
    "in_i=np.zeros((N,t.shape[0]))\n",
    "w_ee =np.zeros((N,N))\n",
    "w_ei=np.zeros((N,N))\n",
    "w_ie=np.zeros((N,N))\n",
    "w_ii=np.zeros((N,N))\n",
    "r_e_ss=np.zeros((N,t.shape[0]))\n",
    "r_i_ss=np.zeros((N,t.shape[0]))\n",
    "c=np.arange(1,101,1)\n",
    "ext_in=np.zeros((N,100))\n",
    "R_e=np.zeros((N,c.shape[0]))\n",
    "R_i=np.zeros((N,c.shape[0]))\n",
    "R_e_n_e=np.zeros((N,c.shape[0]))\n",
    "R_e_n_i=np.zeros((N,c.shape[0]))\n",
    "R_i_n_e=np.zeros((N,c.shape[0]))\n",
    "R_i_n_i=np.zeros((N,c.shape[0]))\n",
    "R_e_t=np.zeros((N,c.shape[0]))\n",
    "R_i_t=np.zeros((N,c.shape[0]))\n",
    "\n",
    "\n",
    "#going to calculate the external input first\n",
    "h_1=np.arange(1,181,1)\n",
    "h_d=np.subtract(h_1,phi_1)\n",
    "h=np.exp(-((h_d**2)/(2*(sigm_ff**2))))\n",
    "\n",
    "#equations\n",
    "#weights\n",
    "w_1=np.arange(1,181,1)\n",
    "w_c,w_r=np.meshgrid(w_1,w_1)\n",
    "w_d=np.absolute(w_r-w_c)\n",
    "w_ee=j_ee*np.exp(-((w_d**2)/(2*(sigm_ori**2))))\n",
    "w_ie=j_ie*np.exp(-((w_d**2)/(2*(sigm_ori**2))))\n",
    "w_ei=j_ei*np.exp(-((w_d**2)/(2*(sigm_ori**2))))\n",
    "w_ii=j_ii*np.exp(-((w_d**2)/(2*(sigm_ori**2))))\n",
    "\n",
    "#let's start euler\n",
    "#this iteration may detect only the steady state value_so if you want r vs time, make another iteration for it\n",
    "dt=t.shape[0]-1\n",
    "for j in range(0,c.shape[0]):\n",
    "    c_l=c[j]\n",
    "    for i in range(1,t.shape[0]):\n",
    "        r_e[:,i]=((-r_e[:,i-1]+r_e_ss[:,i-1])/tau_e)*tstep+r_e[:,i-1]\n",
    "        r_i[:,i]=((-r_i[:,i-1]+r_i_ss[:,i-1])/tau_i)*tstep+r_i[:,i-1]\n",
    "        in_e[:,i]=c_l*h+np.dot(w_ee,r_e[:,i])-np.dot(w_ei,r_i[:,i])\n",
    "        in_i[:,i]=c_l*h+np.dot(w_ie,r_e[:,i])-np.dot(w_ii,r_i[:,i])\n",
    "        in_e[in_e[:,i]<0,i]=0\n",
    "        in_i[in_i[:,i]<0,i]=0\n",
    "        r_e_ss[:,i]=k*np.power(in_e[:,i],n)\n",
    "        r_i_ss[:,i]=k*np.power(in_i[:,i],n)\n",
    "    ext_in[:,j]=c_l*h #external input\n",
    "    R_e[:,j]=r_e[:,dt] #firing rate of E unit\n",
    "    R_e_n_e[:,j]=np.dot(w_ee,r_e[:,dt]) #network E of E unit\n",
    "    R_e_n_i[:,j]=np.dot(w_ei,r_i[:,dt]) #network I of E unit\n",
    "    R_e_t[:,j]=in_e[:,dt] #I hope this is the net input of E unit\n",
    "    R_i[:,j]=r_e[:,dt] #firing rate of I unit\n",
    "    R_i_n_e[:,j]=np.dot(w_ie,r_e[:,dt]) #network E of I unit\n",
    "    R_i_n_i[:,j]=np.dot(w_ii,r_i[:,dt]) #network I of I unit\n",
    "    R_i_t[:,j]=in_i[:,dt] #I hope this is the net input of I unit\n",
    "    \n",
    "\n"
   ]
  },
  {
   "cell_type": "code",
   "execution_count": 57,
   "metadata": {
    "collapsed": false
   },
   "outputs": [
    {
     "data": {
      "text/plain": [
       "[<matplotlib.lines.Line2D at 0x8e2ef7dd68>,\n",
       " <matplotlib.lines.Line2D at 0x8e2ef7df28>,\n",
       " <matplotlib.lines.Line2D at 0x8e2ef85940>,\n",
       " <matplotlib.lines.Line2D at 0x8e2ef8a198>,\n",
       " <matplotlib.lines.Line2D at 0x8e2ef8af60>]"
      ]
     },
     "execution_count": 57,
     "metadata": {},
     "output_type": "execute_result"
    },
    {
     "data": {
      "image/png": "[encoded data removed]",
      "text/plain": [
       "<matplotlib.figure.Figure at 0x8e3165bf28>"
      ]
     },
     "metadata": {},
     "output_type": "display_data"
    }
   ],
   "source": [
    "#before doing plot, let's do some calculations\n",
    "#for firing rate vs input strength(h(x))\n",
    "#use steady state firing rate\n",
    "#excitatory\n",
    "a1=R_e[45,:]\n",
    "b1=R_e_n_e[45,:]\n",
    "a2=R_e_n_i[45,:]\n",
    "b2=R_e_t[45,:]\n",
    "ch=ext_in[45,:]\n",
    "plt.figure()\n",
    "plt.plot(c,ch,c,a1,c,b1,c,a2,c,b2)\n",
    "\n",
    "\n"
   ]
  },
  {
   "cell_type": "code",
   "execution_count": null,
   "metadata": {
    "collapsed": true
   },
   "outputs": [],
   "source": []
  }
 ],
 "metadata": {
  "anaconda-cloud": {},
  "kernelspec": {
   "display_name": "Python [conda root]",
   "language": "python",
   "name": "conda-root-py"
  },
  "language_info": {
   "codemirror_mode": {
    "name": "ipython",
    "version": 3
   },
   "file_extension": ".py",
   "mimetype": "text/x-python",
   "name": "python",
   "nbconvert_exporter": "python",
   "pygments_lexer": "ipython3",
   "version": "3.5.2"
  }
 },
 "nbformat": 4,
 "nbformat_minor": 1
}
