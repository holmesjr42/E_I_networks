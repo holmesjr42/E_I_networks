{
 "cells": [
  {
   "cell_type": "code",
   "execution_count": 9,
   "metadata": {
    "collapsed": false
   },
   "outputs": [],
   "source": [
    "# for fast array manipulation\n",
    "import numpy as np\n",
    "# for plotting\n",
    "import matplotlib.pyplot as plt\n",
    "# for numerical ODE integration\n",
    "from scipy.integrate import odeint\n",
    "# for nonlinear equations\n",
    "from scipy.optimize import fsolve\n",
    "from matplotlib.pyplot import cm\n",
    "# needed to calculate (complex) squareroots of negative numbers\n",
    "from scipy import sqrt,integrate\n",
    "#nullcline\n",
    "# import PyDSTool as dst\n",
    "# from PyDSTool.Toolbox import phaseplane as pp\n",
    "# from PyDSTool import args\n",
    "# to display plots in-line\n",
    "%matplotlib inline\n",
    "\n",
    "\n",
    "#import sympy for fixed points?\n",
    "import sympy as sm\n",
    "\n",
    "#widget\n",
    "from ipywidgets import interact, interactive\n",
    "from IPython.display import clear_output, display, HTML\n",
    "from mpl_toolkits.mplot3d import Axes3D\n",
    "from matplotlib.colors import cnames\n",
    "from matplotlib import animation"
   ]
  },
  {
   "cell_type": "code",
   "execution_count": 39,
   "metadata": {
    "collapsed": false,
    "scrolled": true
   },
   "outputs": [
    {
     "name": "stdout",
     "output_type": "stream",
     "text": [
      "[[2], [3, 4]]\n"
     ]
    },
    {
     "data": {
      "image/png": "[encoded data removed]",
      "text/plain": [
       "<matplotlib.figure.Figure at 0x1f4d0012ef0>"
      ]
     },
     "metadata": {},
     "output_type": "display_data"
    },
    {
     "name": "stdout",
     "output_type": "stream",
     "text": [
      "29345\n"
     ]
    }
   ],
   "source": [
    "x=[[1,2,3],[4,5,6]]\n",
    "y=[[2,4,8],[3,6,9],[20,21,22]]\n",
    "z=[1,2,3,4,5,6,7,8,9,10,11,12]\n",
    "a=[[z[1]],z[2:4]]\n",
    "b=[[0,2],[3,4]]\n",
    "c=[[0,4],[18,24]]\n",
    "print(a)\n",
    "acd=plt.figure()\n",
    "plt.boxplot(a)\n",
    "    \n",
    "plt.show()\n",
    "name=['885','29345','3171956','93750','1880','2101630','147905','47157','49302','1221203','13120','37162','23207','143816','68326','19201','84618','3592123','3341804','77383','72347','104419']\n",
    "print(name[1])"
   ]
  },
  {
   "cell_type": "code",
   "execution_count": null,
   "metadata": {
    "collapsed": true
   },
   "outputs": [],
   "source": []
  },
  {
   "cell_type": "code",
   "execution_count": null,
   "metadata": {
    "collapsed": true
   },
   "outputs": [],
   "source": []
  }
 ],
 "metadata": {
  "anaconda-cloud": {},
  "kernelspec": {
   "display_name": "Python [conda root]",
   "language": "python",
   "name": "conda-root-py"
  },
  "language_info": {
   "codemirror_mode": {
    "name": "ipython",
    "version": 3
   },
   "file_extension": ".py",
   "mimetype": "text/x-python",
   "name": "python",
   "nbconvert_exporter": "python",
   "pygments_lexer": "ipython3",
   "version": "3.5.2"
  }
 },
 "nbformat": 4,
 "nbformat_minor": 1
}
