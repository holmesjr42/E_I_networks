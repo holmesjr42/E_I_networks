{
 "cells": [
  {
   "cell_type": "code",
   "execution_count": 1,
   "metadata": {
    "collapsed": true
   },
   "outputs": [],
   "source": [
    "# for fast array manipulation\n",
    "import numpy as np\n",
    "# for plotting\n",
    "import matplotlib.pyplot as plt\n",
    "# for numerical ODE integration\n",
    "from scipy.integrate import odeint\n",
    "# for nonlinear equations\n",
    "from scipy.optimize import fsolve\n",
    "from matplotlib.pyplot import cm\n",
    "# needed to calculate (complex) squareroots of negative numbers\n",
    "from scipy import sqrt\n",
    "# to display plots in-line\n",
    "%matplotlib inline\n",
    "from numpy import real,imag\n",
    "#import sympy for fixed points?\n",
    "import sympy as sm\n"
   ]
  },
  {
   "cell_type": "code",
   "execution_count": 2,
   "metadata": {
    "collapsed": false
   },
   "outputs": [
    {
     "name": "stdout",
     "output_type": "stream",
     "text": [
      "Unstable, Spiral out\n"
     ]
    }
   ],
   "source": [
    "# minimum and maximum E and I values we want displayed in the graph-sayshttp://martinosorb.github.io#variables\n",
    "tau=0.01\n",
    "w_ee=15\n",
    "w_ei=-15\n",
    "w_ie=10\n",
    "w_ii=-5\n",
    "e=1\n",
    "#i=(0.1,0.7), Ei=0.0915, Ii=0.1523\n",
    "#i=(0.7,0.5), Ei=0.092, Ii=0.154\n",
    "#i=(0, 0), Ei=0.0915, Ii=0.152\n",
    "#i=(0.3, 0.4), Ei=0.0916, Ii=0.152\n",
    "\n",
    "Ei=0.0915\n",
    "Ii=0.1523\n",
    "f1=1-(np.tanh(w_ee*Ei+w_ei*Ii+e))**2\n",
    "f2=1-(np.tanh(w_ie*Ei+w_ii*Ii))**2\n",
    "\n",
    "j11=(1/tau)*(w_ee*f1-1)\n",
    "j12=w_ei*f1/tau\n",
    "j21=w_ie*f2/tau\n",
    "j22=(1/tau)*(w_ii*f2-1)\n",
    "\n",
    "x=sm.Symbol('x')\n",
    "lambj=sm.solve((j11-x)*(j22-x)-j21*j12,x)\n",
    "l1=lambj[0]\n",
    "l2=lambj[1]\n",
    "l11=l1.as_real_imag()\n",
    "l22=l2.as_real_imag()\n",
    "re1=l11[0]\n",
    "i1=l11[1]\n",
    "re2=l22[0]\n",
    "i2=l22[1]\n",
    "\n",
    "#stability check\n",
    "if i1==0:\n",
    "    if re1>0 and re2>0:\n",
    "        print('Unstable, Source')\n",
    "    elif re1<0 and re2<0:\n",
    "        print('Stable, Sink')\n",
    "    elif re1*re2<0:\n",
    "        print('Unstable, Saddle point')\n",
    "elif i1!=0: #imaginary number exists\n",
    "    if re1>0:\n",
    "        print('Unstable, Spiral out')\n",
    "    elif re1<0:\n",
    "        print('Stable,Spiral sink')\n",
    "    elif re1==0:\n",
    "        print('Neutrally Stable')\n"
   ]
  },
  {
   "cell_type": "code",
   "execution_count": null,
   "metadata": {
    "collapsed": true
   },
   "outputs": [],
   "source": []
  }
 ],
 "metadata": {
  "anaconda-cloud": {},
  "kernelspec": {
   "display_name": "Python [conda root]",
   "language": "python",
   "name": "conda-root-py"
  },
  "language_info": {
   "codemirror_mode": {
    "name": "ipython",
    "version": 3
   },
   "file_extension": ".py",
   "mimetype": "text/x-python",
   "name": "python",
   "nbconvert_exporter": "python",
   "pygments_lexer": "ipython3",
   "version": "3.5.2"
  }
 },
 "nbformat": 4,
 "nbformat_minor": 1
}
