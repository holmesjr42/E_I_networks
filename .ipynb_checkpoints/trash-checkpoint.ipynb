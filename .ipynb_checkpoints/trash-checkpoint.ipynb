{
 "cells": [
  {
   "cell_type": "code",
   "execution_count": 4,
   "metadata": {
    "collapsed": false
   },
   "outputs": [],
   "source": [
    "# for fast array manipulation\n",
    "import numpy as np\n",
    "# for plotting\n",
    "import matplotlib.pyplot as plt\n",
    "# for numerical ODE integration\n",
    "from scipy.integrate import odeint\n",
    "# for nonlinear equations\n",
    "from scipy.optimize import fsolve\n",
    "from matplotlib.pyplot import cm\n",
    "# needed to calculate (complex) squareroots of negative numbers\n",
    "from scipy import sqrt,integrate\n",
    "#nullcline\n",
    "# import PyDSTool as dst\n",
    "# from PyDSTool.Toolbox import phaseplane as pp\n",
    "# from PyDSTool import args\n",
    "# to display plots in-line\n",
    "%matplotlib inline\n",
    "\n",
    "\n",
    "#import sympy for fixed points?\n",
    "import sympy as sm\n",
    "\n",
    "#widget\n",
    "from ipywidgets import interact, interactive\n",
    "from IPython.display import clear_output, display, HTML\n",
    "from mpl_toolkits.mplot3d import Axes3D\n",
    "from matplotlib.colors import cnames\n",
    "from matplotlib import animation"
   ]
  },
  {
   "cell_type": "code",
   "execution_count": 13,
   "metadata": {
    "collapsed": false,
    "scrolled": true
   },
   "outputs": [
    {
     "name": "stdout",
     "output_type": "stream",
     "text": [
      "[3, 8, 5]\n"
     ]
    }
   ],
   "source": [
    "x=[1,2,3,8,5,6]\n",
    "y=x[2:5]\n",
    "print(y)"
   ]
  },
  {
   "cell_type": "code",
   "execution_count": null,
   "metadata": {
    "collapsed": true
   },
   "outputs": [],
   "source": []
  },
  {
   "cell_type": "code",
   "execution_count": null,
   "metadata": {
    "collapsed": true
   },
   "outputs": [],
   "source": []
  }
 ],
 "metadata": {
  "anaconda-cloud": {},
  "kernelspec": {
   "display_name": "Python [conda root]",
   "language": "python",
   "name": "conda-root-py"
  },
  "language_info": {
   "codemirror_mode": {
    "name": "ipython",
    "version": 3
   },
   "file_extension": ".py",
   "mimetype": "text/x-python",
   "name": "python",
   "nbconvert_exporter": "python",
   "pygments_lexer": "ipython3",
   "version": "3.5.2"
  }
 },
 "nbformat": 4,
 "nbformat_minor": 1
}
