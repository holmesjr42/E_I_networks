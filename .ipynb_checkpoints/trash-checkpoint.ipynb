{
 "cells": [
  {
   "cell_type": "code",
   "execution_count": 2,
   "metadata": {
    "collapsed": false
   },
   "outputs": [],
   "source": [
    "# for fast array manipulation\n",
    "import numpy as np\n",
    "# for plotting\n",
    "import matplotlib.pyplot as plt\n",
    "# for numerical ODE integration\n",
    "from scipy.integrate import odeint\n",
    "# for nonlinear equations\n",
    "from scipy.optimize import fsolve\n",
    "from matplotlib.pyplot import cm\n",
    "# needed to calculate (complex) squareroots of negative numbers\n",
    "from scipy import sqrt,integrate\n",
    "#nullcline\n",
    "# import PyDSTool as dst\n",
    "# from PyDSTool.Toolbox import phaseplane as pp\n",
    "# from PyDSTool import args\n",
    "# to display plots in-line\n",
    "%matplotlib inline\n",
    "\n",
    "\n",
    "#import sympy for fixed points?\n",
    "import sympy as sm\n",
    "\n",
    "#widget\n",
    "from ipywidgets import interact, interactive\n",
    "from IPython.display import clear_output, display, HTML\n",
    "from mpl_toolkits.mplot3d import Axes3D\n",
    "from matplotlib.colors import cnames\n",
    "from matplotlib import animation"
   ]
  },
  {
   "cell_type": "code",
   "execution_count": 3,
   "metadata": {
    "collapsed": false,
    "scrolled": true
   },
   "outputs": [
    {
     "name": "stdout",
     "output_type": "stream",
     "text": [
      "[[ 0.06254078  0.36974009  0.12481706  0.52781628  0.736537  ]\n",
      " [ 0.03400535  0.50025358  0.03649624  0.45812727  0.02253294]\n",
      " [ 0.64709117  0.70042947  0.40281029  0.91335633  0.17976547]\n",
      " [ 0.93413267  0.56259466  0.77597407  0.18497762  0.1675662 ]\n",
      " [ 0.21269935  0.23723721  0.62180316  0.87875428  0.18349517]\n",
      " [ 0.82623218  0.51600038  0.53430255  0.33479807  0.94800312]\n",
      " [ 0.67377041  0.34673655  0.94827641  0.89036906  0.26173615]\n",
      " [ 0.25568941  0.84260909  0.22923026  0.85200816  0.24849758]\n",
      " [ 0.14330411  0.92437982  0.2644389   0.42153528  0.63211554]\n",
      " [ 0.85573384  0.10183727  0.99968213  0.08682684  0.54418884]]\n"
     ]
    }
   ],
   "source": [
    "x=[[1,2,3],[4,5,6]]\n",
    "y=[[2,4,8],[3,6,9],[20,21,22]]\n",
    "z=[1,2,3,4,5,6,7,8,9,10,11,12]\n",
    "a=[[z[1]],z[2:4]]\n",
    "b=[[0,2],[3,4]]\n",
    "c=[[0,4],[18,24]]\n",
    "\n",
    "abcd=np.random.rand(10, 5)\n",
    "print(abcd)"
   ]
  },
  {
   "cell_type": "code",
   "execution_count": null,
   "metadata": {
    "collapsed": true
   },
   "outputs": [],
   "source": []
  },
  {
   "cell_type": "code",
   "execution_count": null,
   "metadata": {
    "collapsed": true
   },
   "outputs": [],
   "source": []
  }
 ],
 "metadata": {
  "anaconda-cloud": {},
  "kernelspec": {
   "display_name": "Python [conda root]",
   "language": "python",
   "name": "conda-root-py"
  },
  "language_info": {
   "codemirror_mode": {
    "name": "ipython",
    "version": 3
   },
   "file_extension": ".py",
   "mimetype": "text/x-python",
   "name": "python",
   "nbconvert_exporter": "python",
   "pygments_lexer": "ipython3",
   "version": "3.5.2"
  }
 },
 "nbformat": 4,
 "nbformat_minor": 1
}
