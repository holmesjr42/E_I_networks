{
 "cells": [
  {
   "cell_type": "code",
   "execution_count": 1,
   "metadata": {},
   "outputs": [],
   "source": [
    "# for fast array manipulation\n",
    "import numpy as np\n",
    "# for plotting\n",
    "import matplotlib.pyplot as plt\n",
    "# for numerical ODE integration\n",
    "from scipy.integrate import odeint\n",
    "# for nonlinear equations\n",
    "from scipy.optimize import fsolve\n",
    "from matplotlib.pyplot import cm\n",
    "# needed to calculate (complex) squareroots of negative numbers\n",
    "from scipy import sqrt,integrate\n",
    "#nullcline_not used in this script. Left it for the future reference\n",
    "# import PyDSTool as dst\n",
    "# from PyDSTool.Toolbox import phaseplane as pp\n",
    "# from PyDSTool import args\n",
    "# to display plots in-line\n",
    "%matplotlib inline\n",
    "\n",
    "\n",
    "#import sympy for fixed points?\n",
    "import sympy as sm\n",
    "\n",
    "#widget\n",
    "from ipywidgets import interact, interactive\n",
    "from IPython.display import clear_output, display, HTML\n",
    "from mpl_toolkits.mplot3d import Axes3D\n",
    "from matplotlib.colors import cnames\n",
    "from matplotlib import animation"
   ]
  },
  {
   "cell_type": "code",
   "execution_count": 2,
   "metadata": {},
   "outputs": [],
   "source": [
    "# minimum and maximum E and I values we want displayed in the graph-sayshttp://martinosorb.github.io#variables\n",
    "tau=0.01\n",
    "# w_ee=15\n",
    "# w_ei=-15\n",
    "# w_ie=10\n",
    "# w_ii=-5\n",
    "# e=0\n",
    "d_t=0.001\n",
    "#initial values for euler\n",
    "tv= np.arange(0,100,d_t)\n",
    "\n",
    "E0=0.1\n",
    "I0=0.7\n",
    "t0=0\n",
    "\n",
    "\n",
    "#plot size\n",
    "minval = -1\n",
    "maxval = 1\n",
    "resolution = 15\n",
    "\n",
    "# State variables\n",
    "eq = np.linspace(minval, maxval, resolution)\n",
    "iq = np.linspace(minval, maxval, resolution)\n",
    "\n",
    "#define tanh[x_+]\n",
    "def wow(x):\n",
    "    y = np.maximum(0,x)\n",
    "    return np.tanh(y)"
   ]
  },
  {
   "cell_type": "code",
   "execution_count": 3,
   "metadata": {},
   "outputs": [],
   "source": [
    "def Biiiig(w_ee=15,w_ei=-15,w_ie=10,w_ii=-5,e=1):  #gonna put almost everything in here\n",
    "    E=[E0]\n",
    "    I=[I0]\n",
    "    \n",
    "\n",
    "    #let's start euler\n",
    "    def amidoingright(E,I,w_ee=w_ee,w_ei=w_ei,w_ie=w_ie,w_ii=w_ii,e=e):\n",
    "        d_E = (-E+wow(w_ee*E+w_ei*I+e))/tau\n",
    "        d_I=(-I+wow(w_ie*E+w_ii*I))/tau\n",
    "        return [d_E, d_I]\n",
    "\n",
    "    for n in range(len(tv)-1):\n",
    "        EI=amidoingright(E[n],I[n])\n",
    "        d_Ef=d_t*EI[0]+E[n]\n",
    "        d_If=d_t*EI[1]+I[n]\n",
    "        E.append(d_Ef)\n",
    "        I.append(d_If)\n",
    "\n",
    "\n",
    "    #try nullclining\n",
    "    enc=np.arange(-1,1,0.01)\n",
    "    inc=np.arange(-1,1,0.01)\n",
    "    En,In=np.meshgrid(enc,inc)\n",
    "    levels = [0]\n",
    "    Zn1=(-En+wow(w_ee*En+w_ei*In+e))/tau\n",
    "    Zn2=(-In+wow(w_ie*En+w_ii*In))/tau\n",
    "\n",
    "    #plot?\n",
    "    #vector field is pretty\n",
    "    # Create a grid for evaluation of the vector field\n",
    "    eq1,iq1 = np.meshgrid(eq, iq)\n",
    "    # Evaluate the slopes\n",
    "    deq1, diq1 = amidoingright(eq1, iq1)\n",
    "    # Compute the magnitude vector\n",
    "    M = (np.hypot(deq1, diq1))\n",
    "    M[M==0]=1, #avoid zero division?\n",
    "    # Normalize the slopes vectors (for the field plot)\n",
    "    deq1, diq1=deq1/M, diq1/M\n",
    "\n",
    "    #plotting\n",
    "    plt.figure(figsize=(6,6))\n",
    "    plt.xlim([0, 1])\n",
    "    plt.ylim([0, 1])\n",
    "    cs1=plt.contour(En,In,Zn1,levels,colors=('b'),linewidths=2,label='E nullcline')\n",
    "    cs2=plt.contour(En,In,Zn2,levels,colors=('c'),linewidths=2,label='I nullcline')\n",
    "    plt.quiver(eq1,iq1,deq1,diq1, M,pivot='mid', headlength = 5, cmap=cm.plasma)\n",
    "    plt.plot(E,I,'r.-',zorder=1, linewidth=2)\n",
    "    plt.grid()\n",
    "    plt.xlabel('E', fontsize=16)\n",
    "    plt.ylabel('I', fontsize=16)\n",
    "    \n",
    "\n",
    "    #starting point & fixed point\n",
    "#     I_f=0\n",
    "#     E_f=0\n",
    "    plt.scatter(E0, I0, marker='H', c='c', s=200, label=\"Starting point\", edgecolor=\"k\")\n",
    "    #plt.scatter(I_f, E_f, marker='p', c='m', s=200, label=\"Fixed point\", edgecolor=\"k\")\n",
    "    \n",
    "    #plt.legend(loc=\"upper left\")\n",
    "    \n",
    "    #plot the solution in time\n",
    "    plt.figure(figsize=(10,3))\n",
    "    plt.ylabel('E, I')\n",
    "    plt.xlabel('t')\n",
    "    plt.plot(tv, E, 'c-', label=\"excitatory\", linewidth=1.5);\n",
    "    plt.plot(tv, I, 'm-', label=\"inhibitory\",linewidth=1.5);\n",
    "    #plt.ylim([99.0,100.0])\n",
    "    plt.xlim([99.0,100.0])\n",
    "    plt.legend();\n",
    "    plt.show()"
   ]
  },
  {
   "cell_type": "code",
   "execution_count": 4,
   "metadata": {
    "scrolled": true
   },
   "outputs": [
    {
     "data": {
      "application/vnd.jupyter.widget-view+json": {
       "model_id": "f8932eadec004c34bd4251e991e77160",
       "version_major": 2,
       "version_minor": 0
      },
      "text/plain": [
       "interactive(children=(IntSlider(value=15, description='w_ee', max=30, min=-30), IntSlider(value=-15, descripti…"
      ]
     },
     "metadata": {},
     "output_type": "display_data"
    }
   ],
   "source": [
    "w = interactive(Biiiig, w_ee=(-30,30),w_ei=(-30,30),w_ie=(-30,30),w_ii=(-30,30),e=(-10,10))\n",
    "display(w)"
   ]
  },
  {
   "cell_type": "code",
   "execution_count": null,
   "metadata": {
    "collapsed": true
   },
   "outputs": [],
   "source": []
  },
  {
   "cell_type": "code",
   "execution_count": null,
   "metadata": {
    "collapsed": true
   },
   "outputs": [],
   "source": []
  }
 ],
 "metadata": {
  "anaconda-cloud": {},
  "kernelspec": {
   "display_name": "Python 3",
   "language": "python",
   "name": "python3"
  },
  "language_info": {
   "codemirror_mode": {
    "name": "ipython",
    "version": 3
   },
   "file_extension": ".py",
   "mimetype": "text/x-python",
   "name": "python",
   "nbconvert_exporter": "python",
   "pygments_lexer": "ipython3",
   "version": "3.6.5"
  }
 },
 "nbformat": 4,
 "nbformat_minor": 1
}
